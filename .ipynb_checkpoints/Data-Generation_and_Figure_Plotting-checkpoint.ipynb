{
 "cells": [
  {
   "cell_type": "code",
   "execution_count": 1,
   "metadata": {},
   "outputs": [
    {
     "ename": "FileNotFoundError",
     "evalue": "[WinError 3] The system cannot find the path specified: '/home/harsh/Desktop/Harsh_Deshpande/Readable_Data'",
     "output_type": "error",
     "traceback": [
      "\u001b[1;31m---------------------------------------------------------------------------\u001b[0m",
      "\u001b[1;31mFileNotFoundError\u001b[0m                         Traceback (most recent call last)",
      "\u001b[1;32m<ipython-input-1-6556d0375010>\u001b[0m in \u001b[0;36m<module>\u001b[1;34m()\u001b[0m\n\u001b[0;32m     10\u001b[0m \u001b[1;32mfrom\u001b[0m \u001b[0mmatplotlib\u001b[0m\u001b[1;33m.\u001b[0m\u001b[0mticker\u001b[0m \u001b[1;32mimport\u001b[0m \u001b[0mMaxNLocator\u001b[0m\u001b[1;33m\u001b[0m\u001b[0m\n\u001b[0;32m     11\u001b[0m \u001b[1;32mfrom\u001b[0m \u001b[0mcollections\u001b[0m \u001b[1;32mimport\u001b[0m \u001b[0mnamedtuple\u001b[0m\u001b[1;33m\u001b[0m\u001b[0m\n\u001b[1;32m---> 12\u001b[1;33m \u001b[0mos\u001b[0m\u001b[1;33m.\u001b[0m\u001b[0mchdir\u001b[0m\u001b[1;33m(\u001b[0m\u001b[1;34m'/home/harsh/Desktop/Harsh_Deshpande/Readable_Data'\u001b[0m\u001b[1;33m)\u001b[0m\u001b[1;33m\u001b[0m\u001b[0m\n\u001b[0m",
      "\u001b[1;31mFileNotFoundError\u001b[0m: [WinError 3] The system cannot find the path specified: '/home/harsh/Desktop/Harsh_Deshpande/Readable_Data'"
     ]
    }
   ],
   "source": [
    "from __future__ import division\n",
    "import numpy as np\n",
    "import math\n",
    "from random import *\n",
    "import matplotlib.pyplot as plt\n",
    "from matplotlib import style\n",
    "from sklearn import svm,datasets\n",
    "import os\n",
    "import itertools\n",
    "from matplotlib.ticker import MaxNLocator\n",
    "from collections import namedtuple\n",
    "#os.chdir('/home/harsh/Desktop/Harsh_Deshpande/Readable_Data')"
   ]
  },
  {
   "cell_type": "code",
   "execution_count": null,
   "metadata": {},
   "outputs": [],
   "source": [
    "s_slopes = []\n",
    "t_slopes = []\n",
    "r_slopes = []\n",
    "p_slopes = []\n",
    "\n",
    "f = open ('shannon_slopes.txt','r')\n",
    "for line in f:\n",
    "    for word in line.split():\n",
    "        s_slopes.append(float(word))\n",
    "f.close()\n",
    "\n",
    "f = open ('tsallis_slopes.txt','r')\n",
    "for line in f:\n",
    "    for word in line.split():\n",
    "        t_slopes.append(float(word))\n",
    "f.close()\n",
    "\n",
    "f = open ('renyi_slopes.txt','r')\n",
    "for line in f:\n",
    "    for word in line.split():\n",
    "        r_slopes.append(float(word))\n",
    "f.close()\n",
    "\n",
    "f = open ('permutation_slopes.txt','r')\n",
    "for line in f:\n",
    "    for word in line.split():\n",
    "        p_slopes.append(float(word))\n",
    "f.close()\n",
    "\n",
    "means = []\n",
    "means.append(np.average(s_slopes))\n",
    "means.append(np.average(t_slopes))\n",
    "means.append(np.average(r_slopes))\n",
    "means.append(np.average(p_slopes))\n",
    "\n",
    "std = []\n",
    "std.append(np.std(s_slopes))\n",
    "std.append(np.std(t_slopes))\n",
    "std.append(np.std(r_slopes))\n",
    "std.append(np.std(p_slopes))\n",
    "\n",
    "print (means)\n",
    "print (std)"
   ]
  },
  {
   "cell_type": "code",
   "execution_count": null,
   "metadata": {},
   "outputs": [],
   "source": [
    "n = 4\n",
    "b = 0.35\n",
    "fig , ax = plt.subplots()\n",
    "index = np.arange(n)\n",
    "opacity = 0.5\n",
    "error_config = {'ecolor':'0.0'}\n",
    "rects1 = ax.bar (index, means, b, alpha=opacity, color='b', yerr=(0,0,0,0), error_kw=error_config,label='Mean')\n",
    "rects1 = ax.bar (index+b, std, b, alpha=opacity, color='r', yerr=(0,0,0,0), error_kw=error_config,label='Standard Deviation')\n",
    "ax.set_xlabel('Entropy')\n",
    "ax.set_ylabel('Value')\n",
    "ax.set_title('Mean slopes and std_deviation')\n",
    "ax.set_xticks(index + b/2)\n",
    "ax.set_xticklabels(('Shannon','Tsallis','Renyi','Permutation'))\n",
    "ax.legend()\n",
    "fig.tight_layout()\n",
    "plt.show()"
   ]
  },
  {
   "cell_type": "code",
   "execution_count": null,
   "metadata": {},
   "outputs": [],
   "source": [
    "n_groups = 4\n",
    "\n",
    "\n",
    "\n",
    "fig, ax = plt.subplots()\n",
    "\n",
    "index = np.arange(n_groups)\n",
    "bar_width = 0.35\n",
    "\n",
    "opacity = 0.4\n",
    "error_config = {'ecolor': '0.3'}\n",
    "\n",
    "rects1 = ax.bar(index, means, bar_width,\n",
    "                alpha=opacity, color='b',\n",
    "                yerr=std_men, error_kw=error_config,\n",
    "                label='Men')\n",
    "\n",
    "rects2 = ax.bar(index + bar_width, means_women, bar_width,\n",
    "                alpha=opacity, color='r',\n",
    "                yerr=std_women, error_kw=error_config,\n",
    "                label='Women')\n",
    "\n",
    "ax.set_xlabel('Group')\n",
    "ax.set_ylabel('Scores')\n",
    "ax.set_title('Scores by group and gender')\n",
    "ax.set_xticks(index + bar_width / 2)\n",
    "ax.set_xticklabels(('A', 'B', 'C', 'D', 'E'))\n",
    "ax.legend()\n",
    "\n",
    "fig.tight_layout()\n",
    "plt.show()"
   ]
  },
  {
   "cell_type": "code",
   "execution_count": null,
   "metadata": {
    "scrolled": false
   },
   "outputs": [],
   "source": [
    "f = open('renyi_slopes_var.txt','r')\n",
    "r_slopes = []\n",
    "for line in f:\n",
    "    #print (line.split()[0].split('[')[1].split(',')[0])\n",
    "    try:\n",
    "        r_slopes.append(float(line.split()[0].split('[')[1].split(',')[0]))\n",
    "    except:\n",
    "        pass\n",
    "print (len(r_slopes))  "
   ]
  },
  {
   "cell_type": "code",
   "execution_count": 8,
   "metadata": {},
   "outputs": [
    {
     "name": "stdout",
     "output_type": "stream",
     "text": [
      "[625.   0.   0.   0.   0.] [1.00000000e+00 1.30656296e+01 3.49355339e+02 2.91363541e+03\n",
      " 3.80279048e+04 1.92299937e+05 1.52179186e+06 3.75631626e+06\n",
      " 1.89747360e+07]\n"
     ]
    },
    {
     "data": {
      "image/png": "[encoded data removed]",
      "text/plain": [
       "<Figure size 432x288 with 1 Axes>"
      ]
     },
     "metadata": {},
     "output_type": "display_data"
    }
   ],
   "source": [
    "b, a = signal.butter(4, (6,11), 'band', analog=True)\n",
    "print (b,a)\n",
    "w, h = signal.freqs(b, a)\n",
    "plt.plot(w, 20 * np.log10(abs(h)))\n",
    "plt.margins(0, 0.1)\n",
    "plt.axvline(6, color='green')\n",
    "plt.axvline(11, color='red')\n",
    "plt.show()"
   ]
  },
  {
   "cell_type": "code",
   "execution_count": 3,
   "metadata": {},
   "outputs": [],
   "source": [
    "from scipy import signal"
   ]
  },
  {
   "cell_type": "code",
   "execution_count": null,
   "metadata": {},
   "outputs": [],
   "source": [
    "sig = []\n",
    "f = 8\n",
    "f1 = 80\n",
    "fs = 1000\n",
    "r = fs/2\n",
    "cut = [6/r,11/r]\n",
    "b, a = signal.butter(4, cut, 'band')\n",
    "for t in range (0,2001):\n",
    "    sig.append (20*np.sin (2*np.pi*f*t/1000) + np.sin(2*np.pi*f1*t/1000))\n",
    "out = signal.filtfilt(b,a,sig)\n",
    "plt.plot(sig,'r')\n",
    "plt.plot(out,'b')"
   ]
  },
  {
   "cell_type": "code",
   "execution_count": 1,
   "metadata": {},
   "outputs": [],
   "source": [
    "from sklearn import svm\n",
    "import os\n",
    "import numpy as np\n",
    "import matplotlib.pyplot as plt"
   ]
  },
  {
   "cell_type": "code",
   "execution_count": 2,
   "metadata": {},
   "outputs": [],
   "source": [
    "def accuracy_svm (data_set1 , data_set2 , cc , gg):\n",
    "\taccuracy = []\n",
    "\tl = len(data_set1)\n",
    "\tif l != len (data_set2):\n",
    "\t\tprint (\"error\")\n",
    "\t\tprint (l)\n",
    "\t\tprint (len(data_set2))\n",
    "\tfor i in range (0,5):\n",
    "\t\tfatigue_train1 = []\n",
    "\t\tfatigue_train2 = []\n",
    "\t\tfatigue_test1 = []\n",
    "\t\tfatigue_test2 = []\t\t\n",
    "\t\ttest1 = data_set1[int(i*l/5):int((i+1)*l/5)]\n",
    "\t\ttest2 = data_set2[int(i*l/5):int((i+1)*l/5)]\n",
    "\t\t#print(type(test1))\n",
    "\t\tif i == 0:\n",
    "\t\t\ttrain1 = data_set1[int(l/5):l]\n",
    "\t\t\ttrain2 = data_set2[l//5:l]\n",
    "\t\telif i == 4 :\n",
    "\t\t\ttrain1 = data_set1[0:4*l//5]\n",
    "\t\t\ttrain2 = data_set2[0:4*l//5]\t\n",
    "\t\telse:\n",
    "\t\t\ttrain1 = data_set1[0:i*l//5]\n",
    "\t\t\ttrain1 = np.concatenate((train1,data_set1[(i+1)*l//5:l]),axis = 0)\n",
    "\t\t\ttrain2 = data_set2[0:i*l//5]\n",
    "\t\t\ttrain2 = np.concatenate((train2 ,data_set2[(i+1)*l//5:l]) , axis =0)\n",
    "\t\ttest1 = np.concatenate((test1,test2),axis=0)\n",
    "\t\ttrain1 = np.concatenate((train1,train2), axis=0)\n",
    "\t\t#print (test1.shape)\n",
    "\t\t#print (len(test1[0]))\t\n",
    "\t\tfor k in range (0,int(4*l//5)):\n",
    "\t\t\tfatigue_train1.append(0)\n",
    "\t\t\tfatigue_train2.append(1)\n",
    "\t\t\tif(k<int(l//5)):\n",
    "\t\t\t\tfatigue_test1.append(0)\n",
    "\t\t\t\tfatigue_test2.append(1)\t\n",
    "\t\t#print (len(fatigue_train1))\t\t\n",
    "\t\tfatigue_train1 += fatigue_train2\n",
    "\t\tfatigue_train = np.array(fatigue_train1)\n",
    "\t\t#print (len(fatigue_train))\n",
    "\t\tfatigue_test1 += fatigue_test2 \t\t\n",
    "\t\tfatigue_test = np.array(fatigue_test1)\n",
    "\t\t#print (len(fatigue_test))\n",
    "\t\tclf = svm.SVC(kernel='rbf', C=cc, gamma = gg )\t\t\t\t\n",
    "\t\tclf.fit (train1 , fatigue_train1)\n",
    "\t\tfatigue_result = clf.predict(test1)\n",
    "\t\ty = 0\n",
    "\t\tn = 0\n",
    "\t\tfor i in range (0,len(fatigue_result)):\n",
    "\t\t\tif (fatigue_result[i] == fatigue_test1[i]):\n",
    "\t\t\t\ty=y+1\n",
    "\t\t\telse:\n",
    "\t\t\t\tn=n+1\n",
    "\t\taccuracy_curr = y/(y+n)\t\t\n",
    "\t\taccuracy.append (float(100*accuracy_curr))\n",
    "\taccuracy = np.array(accuracy)\n",
    "\t#print (accuracy)\n",
    "\tmean = accuracy.mean()\n",
    "\tstd = accuracy.std()\n",
    "\treturn (mean , std)"
   ]
  },
  {
   "cell_type": "code",
   "execution_count": 3,
   "metadata": {},
   "outputs": [
    {
     "name": "stdout",
     "output_type": "stream",
     "text": [
      "9.8 9.9\n",
      "9.8 9.9\n",
      "9.8 9.9\n",
      "9.8 9.9\n",
      "<class 'list'>\n"
     ]
    }
   ],
   "source": [
    "result = []\n",
    "#Get features in this part  should be an array of arrays or list of list with each small list containing features of one segment and many such lists\n",
    "# Assumed final list os lists is in entropies_train[[]]\n",
    "#For each list give in array fatigue =1 and not-fatigue=0\n",
    "#Do_same for test data\n",
    "\n",
    "# mean_old = 0\n",
    "# cc_max , gg_max = (0,0)\n",
    "for entropy in [\"shannon\",\"tsallis\",\"renyi\",\"permut\"]:#,\"tsallis\",\"renyi\",\"permut\"]:\t\n",
    "\t# for ccc in range (50,100):\n",
    "\t# \tfor ggg in range (50,100):\t\t\t\t\t\t#(6.1,8.4)\n",
    "\tcc = 9.8\n",
    "\tgg = 9.9\n",
    "\tprint (cc,gg)\n",
    "\t#print (cc,gg)\n",
    "\tmean_accuracies = []\n",
    "\tstd_accuracies = []\n",
    "\t#print (entropy)\n",
    "\taccuracy = []\n",
    "\tfor sub in range (1,31):\n",
    "\t\tfor turn in range (1,3):\n",
    "\t\t\tdata_set1 = []\n",
    "\t\t\tdata_set2 = []\n",
    "\t\t\tfor ch in range (1,25):\n",
    "\t\t\t\t\tos.chdir ('/media/harsh/DATA/Readable_Data/Entropies')\n",
    "\t\t\t\t\tfile_name = entropy+\"s\"+str(sub)+\"t\"+str(turn)+\"c\"+str(ch)+\".txt\"\n",
    "\t\t\t\t\t#print (file_name)\n",
    "\t\t\t\t\tf = open (file_name , 'r')\n",
    "\t\t\t\t\tn = 0\n",
    "\t\t\t\t\ttemp = []\n",
    "\t\t\t\t\ta=0\n",
    "\t\t\t\t\tfor line in f:\n",
    "\t\t\t\t\t\tfor word in line.split() :\n",
    "\t\t\t\t\t\t\t#a = a+1\n",
    "\t\t\t\t\t\t\t#print (a)\n",
    "\t\t\t\t\t\t\t#print (word)\n",
    "\t\t\t\t\t\t\ttemp.append(str(float(word)))\n",
    "\t\t\t\t\tf.close()\t\t\t\t\n",
    "\t\t\t\t\tdata1 = temp[0:300]\n",
    "\t\t\t\t\tdata2 = temp[len(temp)-300:len(temp)]\n",
    "\t\t\t\t\tdata_set1.append(data1)\n",
    "\t\t\t\t\tdata_set2.append(data2)\n",
    "\t\t\tdata_set1 = np.array(data_set1)\n",
    "\t\t\tx , y = data_set1.shape\n",
    "\t\t\t#print (x,y)\n",
    "\t\t\t# if (y!=24):\n",
    "\t\t\t# \tprint (\"error\")\n",
    "\t\t\t# \tprint (y)\n",
    "\t\t\t# \tprint (x)\n",
    "\t\t\tdata_set1 = data_set1.reshape((y,x))\n",
    "\t\t\tdata_set2 = np.array(data_set2)\n",
    "\t\t\tx , y = data_set2.shape\n",
    "\t\t\t#print (x,y)\n",
    "\t\t\tdata_set2 = data_set2.reshape(y,x)\n",
    "\t\t\t#print (len(data_set2[0]))\n",
    "\t\t\tmean , std = accuracy_svm(data_set1 , data_set2 , cc , gg)\n",
    "\t\t\taccuracy.append(mean)\n",
    "\t\t\t#accuracy_std.append(std)\n",
    "\taccuracy = np.array(accuracy)\t\t\n",
    "\taccuracy_std = accuracy.std()\t\t\n",
    "\tmean = accuracy.mean()\n",
    "\tminn , maxx = (accuracy.min() , accuracy.max())\n",
    "\t# if (mean > mean_old):\n",
    "\t# \t\tcc_max = cc\n",
    "\t# \t\tgg_max = gg\n",
    "\t# \t\tmean_old = mean\n",
    "\t# \t\tprint (mean,accuracy_std,entropy)\n",
    "\tresult.append(np.array((mean,accuracy_std,entropy,minn,maxx))\t)\t\n",
    "\t# print (result)\n",
    "\t# print (entropy + \" done\")\t\t\n",
    "\t\t\t# mean_accuracies.append(mean)\n",
    "\t\t\t# std_accuracies.append(std)\n",
    "print (type(result))"
   ]
  },
  {
   "cell_type": "code",
   "execution_count": 5,
   "metadata": {},
   "outputs": [
    {
     "name": "stdout",
     "output_type": "stream",
     "text": [
      "<class 'numpy.str_'>\n"
     ]
    }
   ],
   "source": [
    "means = []\n",
    "sdeviations = []\n",
    "legends = []\n",
    "min_max = []\n",
    "result = np.array(result)\n",
    "for i in range (0,4):\n",
    "\tmeans.append(result[i][0])\n",
    "\tsdeviations.append(result[i][1])\n",
    "\tlegends.append(result[i][2])\n",
    "\tmin_max.append((result[i][3],result[i][4]))\n",
    "\n",
    "print (type(means[0]))"
   ]
  },
  {
   "cell_type": "code",
   "execution_count": 7,
   "metadata": {},
   "outputs": [
    {
     "data": {
      "image/png": "[encoded data removed]",
      "text/plain": [
       "<Figure size 432x288 with 1 Axes>"
      ]
     },
     "metadata": {},
     "output_type": "display_data"
    }
   ],
   "source": [
    "n = 4\n",
    "b = 0.35\n",
    "fig , ax = plt.subplots()\n",
    "index = np.arange(n)\n",
    "opacity = 0.5\n",
    "error_config = {'ecolor':'2.0'}\n",
    "rects1 = ax.bar (index, means, b, alpha=opacity, color='r', yerr=(0,0,0,0), error_kw=error_config,label='Mean accuracy')\n",
    "#ects2 = ax.bar (index+b, std_accuracies, b, alpha=opacity, color='b', yerr=(0,0,0,0), error_kw=error_config,label='Standard Deviation of accuracies')\n",
    "ax.set_xlabel('Entropy')\n",
    "ax.set_ylabel('Accuracy')\n",
    "ax.set_title('SVM Results')\n",
    "ax.set_xticks(index )\n",
    "ax.set_xticklabels(('Shannon','Tsallis','Renyi','Permutation'))\n",
    "ax.legend()\n",
    "fig.tight_layout()\n",
    "plt.show()"
   ]
  },
  {
   "cell_type": "code",
   "execution_count": null,
   "metadata": {},
   "outputs": [],
   "source": []
  },
  {
   "cell_type": "code",
   "execution_count": null,
   "metadata": {},
   "outputs": [],
   "source": []
  },
  {
   "cell_type": "code",
   "execution_count": null,
   "metadata": {},
   "outputs": [],
   "source": []
  },
  {
   "cell_type": "code",
   "execution_count": null,
   "metadata": {},
   "outputs": [],
   "source": []
  },
  {
   "cell_type": "code",
   "execution_count": null,
   "metadata": {},
   "outputs": [],
   "source": []
  }
 ],
 "metadata": {
  "kernelspec": {
   "display_name": "Python 3",
   "language": "python",
   "name": "python3"
  },
  "language_info": {
   "codemirror_mode": {
    "name": "ipython",
    "version": 3
   },
   "file_extension": ".py",
   "mimetype": "text/x-python",
   "name": "python",
   "nbconvert_exporter": "python",
   "pygments_lexer": "ipython3",
   "version": "3.6.5"
  }
 },
 "nbformat": 4,
 "nbformat_minor": 2
}
